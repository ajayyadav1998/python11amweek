{
 "cells": [
  {
   "cell_type": "raw",
   "metadata": {},
   "source": [
    "if condition :\n",
    "    print('condition one is true')\n",
    "elif condition:\n",
    "    print('condition two is true')\n",
    "elif condition:\n",
    "    print('condition third is true')\n",
    "else:\n",
    "    print('all above condition is false')"
   ]
  },
  {
   "cell_type": "code",
   "execution_count": 1,
   "metadata": {},
   "outputs": [
    {
     "name": "stdout",
     "output_type": "stream",
     "text": [
      "condition is True\n"
     ]
    }
   ],
   "source": [
    "if True:\n",
    "    print('condition is True')\n",
    "else:\n",
    "    print('above condition is False')"
   ]
  },
  {
   "cell_type": "code",
   "execution_count": 2,
   "metadata": {},
   "outputs": [
    {
     "name": "stdout",
     "output_type": "stream",
     "text": [
      "above condition is False\n"
     ]
    }
   ],
   "source": [
    "if False:\n",
    "    print('condition is True')\n",
    "else:\n",
    "    print('above condition is False')"
   ]
  },
  {
   "cell_type": "code",
   "execution_count": 4,
   "metadata": {},
   "outputs": [
    {
     "name": "stdout",
     "output_type": "stream",
     "text": [
      "condition is also True but may be False\n"
     ]
    }
   ],
   "source": [
    "if 'a':\n",
    "    print('condition is false')\n",
    "elif '':\n",
    "    print('condition  is True')\n",
    "elif 'ajay':\n",
    "    print('condition is also True but may be False')\n",
    "else:\n",
    "    print('sab moh maya hai')"
   ]
  },
  {
   "cell_type": "code",
   "execution_count": 6,
   "metadata": {},
   "outputs": [
    {
     "name": "stdout",
     "output_type": "stream",
     "text": [
      "sab moh maya hai\n"
     ]
    }
   ],
   "source": [
    "if '':\n",
    "    print('condition is false')\n",
    "elif '':\n",
    "    print('condition  is True')\n",
    "elif False:\n",
    "    print('condition is also True but may be False')\n",
    "else:\n",
    "    print('sab moh maya hai')"
   ]
  },
  {
   "cell_type": "code",
   "execution_count": 10,
   "metadata": {},
   "outputs": [
    {
     "name": "stdout",
     "output_type": "stream",
     "text": [
      "enter the number : 4\n",
      "the number is even \n"
     ]
    }
   ],
   "source": [
    "inp = int(input('enter the number : '))\n",
    "if inp % 2 == 0:\n",
    "    print('the number is even ')\n",
    "else:\n",
    "    print('the number is odd')"
   ]
  },
  {
   "cell_type": "code",
   "execution_count": 12,
   "metadata": {},
   "outputs": [
    {
     "name": "stdout",
     "output_type": "stream",
     "text": [
      "enter a numer : 9\n",
      "enter a second number :6\n",
      "enter a third number : 7\n",
      "x is greator  9\n"
     ]
    }
   ],
   "source": [
    "x = int(input('enter a numer : '))\n",
    "y = int(input('enter a second number :'))\n",
    "z = int(input('enter a third number : '))\n",
    "if x >=y and x>=z:\n",
    "    print('x is greator ',x)\n",
    "elif y >= z:\n",
    "    print('y is greator ',y)\n",
    "else:\n",
    "    print('z is greator ',z)"
   ]
  },
  {
   "cell_type": "code",
   "execution_count": 15,
   "metadata": {},
   "outputs": [
    {
     "name": "stdout",
     "output_type": "stream",
     "text": [
      "enter foo / bar :    k cvdidjf   fdjfidjf \n",
      " foo | bar \n"
     ]
    }
   ],
   "source": [
    "inp = input('enter foo / bar : ').lower().strip().replace(' ','')\n",
    "if inp == 'foo':\n",
    "    print('bar')\n",
    "elif inp == 'bar':\n",
    "    print('foo')\n",
    "else:\n",
    "    print(' foo | bar ')"
   ]
  },
  {
   "cell_type": "code",
   "execution_count": 20,
   "metadata": {},
   "outputs": [
    {
     "name": "stdout",
     "output_type": "stream",
     "text": [
      "enter foo /bar :  vvjfvfvj     spdjdfdw       psjf \n",
      "foo | bar\n"
     ]
    }
   ],
   "source": [
    "a = input('enter foo /bar : ').lower().strip()\n",
    "a = ''.join(a.split())\n",
    "\n",
    "if a == 'foo':\n",
    "    print('bar')\n",
    "elif a == 'bar':\n",
    "    print('foo')\n",
    "else:\n",
    "    print('foo | bar')"
   ]
  },
  {
   "cell_type": "code",
   "execution_count": 24,
   "metadata": {},
   "outputs": [
    {
     "name": "stdout",
     "output_type": "stream",
     "text": [
      "['hello', 'world', 'python', 'ajay', 'awesome']\n"
     ]
    }
   ],
   "source": [
    "a = 'hello world python ajay awesome'\n",
    "b = a.split()\n",
    "print(b)"
   ]
  },
  {
   "cell_type": "code",
   "execution_count": 26,
   "metadata": {},
   "outputs": [
    {
     "data": {
      "text/plain": [
       "'hello world python ajay awesome'"
      ]
     },
     "execution_count": 26,
     "metadata": {},
     "output_type": "execute_result"
    }
   ],
   "source": [
    "' '.join(b)"
   ]
  },
  {
   "cell_type": "code",
   "execution_count": 23,
   "metadata": {},
   "outputs": [
    {
     "name": "stdout",
     "output_type": "stream",
     "text": [
      "enter foo / bar :   b   A   r\n",
      "foo\n"
     ]
    }
   ],
   "source": [
    "inp = input('enter foo / bar : ')\n",
    "\n",
    "if inp.upper().replace(' ','') == 'FOO':\n",
    "    print('bar')\n",
    "elif inp.upper().replace(' ','') == 'BAR':\n",
    "    print('foo')\n",
    "else:\n",
    "    print('foo | bar ')"
   ]
  },
  {
   "cell_type": "code",
   "execution_count": null,
   "metadata": {},
   "outputs": [],
   "source": []
  }
 ],
 "metadata": {
  "kernelspec": {
   "display_name": "Python 3",
   "language": "python",
   "name": "python3"
  },
  "language_info": {
   "codemirror_mode": {
    "name": "ipython",
    "version": 3
   },
   "file_extension": ".py",
   "mimetype": "text/x-python",
   "name": "python",
   "nbconvert_exporter": "python",
   "pygments_lexer": "ipython3",
   "version": "3.7.3"
  }
 },
 "nbformat": 4,
 "nbformat_minor": 2
}
