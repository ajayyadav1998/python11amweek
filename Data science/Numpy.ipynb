{
 "cells": [
  {
   "cell_type": "code",
   "execution_count": 44,
   "metadata": {},
   "outputs": [],
   "source": [
    "import numpy as np\n",
    "import matplotlib.pyplot as plt"
   ]
  },
  {
   "cell_type": "code",
   "execution_count": 2,
   "metadata": {},
   "outputs": [],
   "source": [
    "a = [1,2,3,4,5]"
   ]
  },
  {
   "cell_type": "code",
   "execution_count": 3,
   "metadata": {},
   "outputs": [
    {
     "data": {
      "text/plain": [
       "[1, 2, 3, 4, 5]"
      ]
     },
     "execution_count": 3,
     "metadata": {},
     "output_type": "execute_result"
    }
   ],
   "source": [
    "a"
   ]
  },
  {
   "cell_type": "code",
   "execution_count": 4,
   "metadata": {},
   "outputs": [
    {
     "data": {
      "text/plain": [
       "list"
      ]
     },
     "execution_count": 4,
     "metadata": {},
     "output_type": "execute_result"
    }
   ],
   "source": [
    "type(a)"
   ]
  },
  {
   "cell_type": "code",
   "execution_count": 6,
   "metadata": {},
   "outputs": [],
   "source": [
    "a = np.array(a)"
   ]
  },
  {
   "cell_type": "code",
   "execution_count": 7,
   "metadata": {},
   "outputs": [
    {
     "data": {
      "text/plain": [
       "numpy.ndarray"
      ]
     },
     "execution_count": 7,
     "metadata": {},
     "output_type": "execute_result"
    }
   ],
   "source": [
    "type(a)"
   ]
  },
  {
   "cell_type": "code",
   "execution_count": 8,
   "metadata": {},
   "outputs": [
    {
     "data": {
      "text/plain": [
       "1"
      ]
     },
     "execution_count": 8,
     "metadata": {},
     "output_type": "execute_result"
    }
   ],
   "source": [
    "a.ndim"
   ]
  },
  {
   "cell_type": "code",
   "execution_count": 10,
   "metadata": {},
   "outputs": [],
   "source": [
    "b = np.array([[1,2,3,4],\n",
    "    [5,6,7,8]])"
   ]
  },
  {
   "cell_type": "code",
   "execution_count": 11,
   "metadata": {},
   "outputs": [
    {
     "data": {
      "text/plain": [
       "array([[1, 2, 3, 4],\n",
       "       [5, 6, 7, 8]])"
      ]
     },
     "execution_count": 11,
     "metadata": {},
     "output_type": "execute_result"
    }
   ],
   "source": [
    "b"
   ]
  },
  {
   "cell_type": "code",
   "execution_count": 12,
   "metadata": {},
   "outputs": [
    {
     "data": {
      "text/plain": [
       "numpy.ndarray"
      ]
     },
     "execution_count": 12,
     "metadata": {},
     "output_type": "execute_result"
    }
   ],
   "source": [
    "type(b)"
   ]
  },
  {
   "cell_type": "code",
   "execution_count": 13,
   "metadata": {},
   "outputs": [
    {
     "data": {
      "text/plain": [
       "2"
      ]
     },
     "execution_count": 13,
     "metadata": {},
     "output_type": "execute_result"
    }
   ],
   "source": [
    "b.ndim"
   ]
  },
  {
   "cell_type": "code",
   "execution_count": 14,
   "metadata": {},
   "outputs": [
    {
     "data": {
      "text/plain": [
       "(2, 4)"
      ]
     },
     "execution_count": 14,
     "metadata": {},
     "output_type": "execute_result"
    }
   ],
   "source": [
    "b.shape"
   ]
  },
  {
   "cell_type": "code",
   "execution_count": 15,
   "metadata": {},
   "outputs": [
    {
     "data": {
      "text/plain": [
       "8"
      ]
     },
     "execution_count": 15,
     "metadata": {},
     "output_type": "execute_result"
    }
   ],
   "source": [
    "b.size"
   ]
  },
  {
   "cell_type": "code",
   "execution_count": 16,
   "metadata": {},
   "outputs": [
    {
     "data": {
      "text/plain": [
       "3.141592653589793"
      ]
     },
     "execution_count": 16,
     "metadata": {},
     "output_type": "execute_result"
    }
   ],
   "source": [
    "np.pi"
   ]
  },
  {
   "cell_type": "code",
   "execution_count": 17,
   "metadata": {},
   "outputs": [
    {
     "data": {
      "text/plain": [
       "4.5"
      ]
     },
     "execution_count": 17,
     "metadata": {},
     "output_type": "execute_result"
    }
   ],
   "source": [
    "np.mean(b)"
   ]
  },
  {
   "cell_type": "code",
   "execution_count": 18,
   "metadata": {},
   "outputs": [
    {
     "data": {
      "text/plain": [
       "4.5"
      ]
     },
     "execution_count": 18,
     "metadata": {},
     "output_type": "execute_result"
    }
   ],
   "source": [
    "np.median(b)"
   ]
  },
  {
   "cell_type": "code",
   "execution_count": 20,
   "metadata": {},
   "outputs": [],
   "source": [
    "a = np.array([[1,2,3],\n",
    "             [4,5,6],\n",
    "             [7,8,9]])"
   ]
  },
  {
   "cell_type": "code",
   "execution_count": 22,
   "metadata": {},
   "outputs": [],
   "source": [
    "b = np.array([[1,2,3],\n",
    "            [4,5,6],\n",
    "            [7,8,9]])"
   ]
  },
  {
   "cell_type": "code",
   "execution_count": 23,
   "metadata": {},
   "outputs": [
    {
     "data": {
      "text/plain": [
       "array([[1, 2, 3],\n",
       "       [4, 5, 6],\n",
       "       [7, 8, 9]])"
      ]
     },
     "execution_count": 23,
     "metadata": {},
     "output_type": "execute_result"
    }
   ],
   "source": [
    "a"
   ]
  },
  {
   "cell_type": "code",
   "execution_count": 24,
   "metadata": {},
   "outputs": [
    {
     "data": {
      "text/plain": [
       "array([[1, 2, 3],\n",
       "       [4, 5, 6],\n",
       "       [7, 8, 9]])"
      ]
     },
     "execution_count": 24,
     "metadata": {},
     "output_type": "execute_result"
    }
   ],
   "source": [
    "b"
   ]
  },
  {
   "cell_type": "code",
   "execution_count": 25,
   "metadata": {},
   "outputs": [
    {
     "data": {
      "text/plain": [
       "array([[ 1,  4,  9],\n",
       "       [16, 25, 36],\n",
       "       [49, 64, 81]])"
      ]
     },
     "execution_count": 25,
     "metadata": {},
     "output_type": "execute_result"
    }
   ],
   "source": [
    "a * b  # element wise multiplication"
   ]
  },
  {
   "cell_type": "code",
   "execution_count": 26,
   "metadata": {},
   "outputs": [
    {
     "data": {
      "text/plain": [
       "array([[ 30,  36,  42],\n",
       "       [ 66,  81,  96],\n",
       "       [102, 126, 150]])"
      ]
     },
     "execution_count": 26,
     "metadata": {},
     "output_type": "execute_result"
    }
   ],
   "source": [
    "a @ b  # matrix multiplication"
   ]
  },
  {
   "cell_type": "code",
   "execution_count": 27,
   "metadata": {},
   "outputs": [],
   "source": [
    "x = np.arange(1,101)"
   ]
  },
  {
   "cell_type": "code",
   "execution_count": 28,
   "metadata": {},
   "outputs": [
    {
     "data": {
      "text/plain": [
       "array([  1,   2,   3,   4,   5,   6,   7,   8,   9,  10,  11,  12,  13,\n",
       "        14,  15,  16,  17,  18,  19,  20,  21,  22,  23,  24,  25,  26,\n",
       "        27,  28,  29,  30,  31,  32,  33,  34,  35,  36,  37,  38,  39,\n",
       "        40,  41,  42,  43,  44,  45,  46,  47,  48,  49,  50,  51,  52,\n",
       "        53,  54,  55,  56,  57,  58,  59,  60,  61,  62,  63,  64,  65,\n",
       "        66,  67,  68,  69,  70,  71,  72,  73,  74,  75,  76,  77,  78,\n",
       "        79,  80,  81,  82,  83,  84,  85,  86,  87,  88,  89,  90,  91,\n",
       "        92,  93,  94,  95,  96,  97,  98,  99, 100])"
      ]
     },
     "execution_count": 28,
     "metadata": {},
     "output_type": "execute_result"
    }
   ],
   "source": [
    "x"
   ]
  },
  {
   "cell_type": "code",
   "execution_count": 29,
   "metadata": {},
   "outputs": [
    {
     "data": {
      "text/plain": [
       "1"
      ]
     },
     "execution_count": 29,
     "metadata": {},
     "output_type": "execute_result"
    }
   ],
   "source": [
    "x.ndim"
   ]
  },
  {
   "cell_type": "code",
   "execution_count": 30,
   "metadata": {},
   "outputs": [
    {
     "data": {
      "text/plain": [
       "(100,)"
      ]
     },
     "execution_count": 30,
     "metadata": {},
     "output_type": "execute_result"
    }
   ],
   "source": [
    "x.shape"
   ]
  },
  {
   "cell_type": "code",
   "execution_count": 32,
   "metadata": {},
   "outputs": [],
   "source": [
    "odd = np.arange(1,101,2)"
   ]
  },
  {
   "cell_type": "code",
   "execution_count": 33,
   "metadata": {},
   "outputs": [
    {
     "data": {
      "text/plain": [
       "array([ 1,  3,  5,  7,  9, 11, 13, 15, 17, 19, 21, 23, 25, 27, 29, 31, 33,\n",
       "       35, 37, 39, 41, 43, 45, 47, 49, 51, 53, 55, 57, 59, 61, 63, 65, 67,\n",
       "       69, 71, 73, 75, 77, 79, 81, 83, 85, 87, 89, 91, 93, 95, 97, 99])"
      ]
     },
     "execution_count": 33,
     "metadata": {},
     "output_type": "execute_result"
    }
   ],
   "source": [
    "odd"
   ]
  },
  {
   "cell_type": "code",
   "execution_count": 34,
   "metadata": {},
   "outputs": [],
   "source": [
    "x = np.arange(36).reshape(6,6)"
   ]
  },
  {
   "cell_type": "code",
   "execution_count": 35,
   "metadata": {},
   "outputs": [
    {
     "data": {
      "text/plain": [
       "array([[ 0,  1,  2,  3,  4,  5],\n",
       "       [ 6,  7,  8,  9, 10, 11],\n",
       "       [12, 13, 14, 15, 16, 17],\n",
       "       [18, 19, 20, 21, 22, 23],\n",
       "       [24, 25, 26, 27, 28, 29],\n",
       "       [30, 31, 32, 33, 34, 35]])"
      ]
     },
     "execution_count": 35,
     "metadata": {},
     "output_type": "execute_result"
    }
   ],
   "source": [
    "x"
   ]
  },
  {
   "cell_type": "code",
   "execution_count": 39,
   "metadata": {},
   "outputs": [
    {
     "data": {
      "text/plain": [
       "array([[ 0,  1,  2,  3,  4,  5,  6,  7,  8,  9],\n",
       "       [10, 11, 12, 13, 14, 15, 16, 17, 18, 19],\n",
       "       [20, 21, 22, 23, 24, 25, 26, 27, 28, 29],\n",
       "       [30, 31, 32, 33, 34, 35, 36, 37, 38, 39],\n",
       "       [40, 41, 42, 43, 44, 45, 46, 47, 48, 49],\n",
       "       [50, 51, 52, 53, 54, 55, 56, 57, 58, 59],\n",
       "       [60, 61, 62, 63, 64, 65, 66, 67, 68, 69],\n",
       "       [70, 71, 72, 73, 74, 75, 76, 77, 78, 79],\n",
       "       [80, 81, 82, 83, 84, 85, 86, 87, 88, 89],\n",
       "       [90, 91, 92, 93, 94, 95, 96, 97, 98, 99]])"
      ]
     },
     "execution_count": 39,
     "metadata": {},
     "output_type": "execute_result"
    }
   ],
   "source": [
    "np.arange(100).reshape(10,-1,order='C')"
   ]
  },
  {
   "cell_type": "code",
   "execution_count": 40,
   "metadata": {},
   "outputs": [],
   "source": [
    "x = np.linspace(1,5)"
   ]
  },
  {
   "cell_type": "code",
   "execution_count": 41,
   "metadata": {},
   "outputs": [
    {
     "data": {
      "text/plain": [
       "array([1.        , 1.08163265, 1.16326531, 1.24489796, 1.32653061,\n",
       "       1.40816327, 1.48979592, 1.57142857, 1.65306122, 1.73469388,\n",
       "       1.81632653, 1.89795918, 1.97959184, 2.06122449, 2.14285714,\n",
       "       2.2244898 , 2.30612245, 2.3877551 , 2.46938776, 2.55102041,\n",
       "       2.63265306, 2.71428571, 2.79591837, 2.87755102, 2.95918367,\n",
       "       3.04081633, 3.12244898, 3.20408163, 3.28571429, 3.36734694,\n",
       "       3.44897959, 3.53061224, 3.6122449 , 3.69387755, 3.7755102 ,\n",
       "       3.85714286, 3.93877551, 4.02040816, 4.10204082, 4.18367347,\n",
       "       4.26530612, 4.34693878, 4.42857143, 4.51020408, 4.59183673,\n",
       "       4.67346939, 4.75510204, 4.83673469, 4.91836735, 5.        ])"
      ]
     },
     "execution_count": 41,
     "metadata": {},
     "output_type": "execute_result"
    }
   ],
   "source": [
    "x\n"
   ]
  },
  {
   "cell_type": "code",
   "execution_count": 42,
   "metadata": {},
   "outputs": [],
   "source": [
    "x = np.linspace(1,5,11)"
   ]
  },
  {
   "cell_type": "code",
   "execution_count": 43,
   "metadata": {},
   "outputs": [],
   "source": [
    "y = x ** 2"
   ]
  },
  {
   "cell_type": "code",
   "execution_count": 47,
   "metadata": {},
   "outputs": [
    {
     "data": {
      "image/png": "[encoded data removed]",
      "text/plain": [
       "<Figure size 720x360 with 1 Axes>"
      ]
     },
     "metadata": {},
     "output_type": "display_data"
    }
   ],
   "source": [
    "plt.figure(figsize=(10,5),facecolor='indianred')\n",
    "plt.plot(x,y,'red',marker='o',markersize=12,markerfacecolor='k')\n",
    "plt.title('graph of x and y')\n",
    "plt.xlabel('x-axis')\n",
    "plt.ylabel('y-axis')\n",
    "plt.show()"
   ]
  },
  {
   "cell_type": "code",
   "execution_count": 48,
   "metadata": {},
   "outputs": [
    {
     "data": {
      "text/plain": [
       "array([[1., 0., 0., 0., 0., 0., 0., 0., 0., 0.],\n",
       "       [0., 1., 0., 0., 0., 0., 0., 0., 0., 0.],\n",
       "       [0., 0., 1., 0., 0., 0., 0., 0., 0., 0.],\n",
       "       [0., 0., 0., 1., 0., 0., 0., 0., 0., 0.],\n",
       "       [0., 0., 0., 0., 1., 0., 0., 0., 0., 0.],\n",
       "       [0., 0., 0., 0., 0., 1., 0., 0., 0., 0.],\n",
       "       [0., 0., 0., 0., 0., 0., 1., 0., 0., 0.],\n",
       "       [0., 0., 0., 0., 0., 0., 0., 1., 0., 0.],\n",
       "       [0., 0., 0., 0., 0., 0., 0., 0., 1., 0.],\n",
       "       [0., 0., 0., 0., 0., 0., 0., 0., 0., 1.]])"
      ]
     },
     "execution_count": 48,
     "metadata": {},
     "output_type": "execute_result"
    }
   ],
   "source": [
    "np.eye(10)"
   ]
  },
  {
   "cell_type": "code",
   "execution_count": 50,
   "metadata": {},
   "outputs": [],
   "source": [
    "img =plt.imread('H:/Be-yourself.jpg')"
   ]
  },
  {
   "cell_type": "code",
   "execution_count": 51,
   "metadata": {},
   "outputs": [
    {
     "data": {
      "text/plain": [
       "3"
      ]
     },
     "execution_count": 51,
     "metadata": {},
     "output_type": "execute_result"
    }
   ],
   "source": [
    "img.ndim"
   ]
  },
  {
   "cell_type": "code",
   "execution_count": 52,
   "metadata": {},
   "outputs": [
    {
     "data": {
      "text/plain": [
       "<matplotlib.image.AxesImage at 0x2e18b4d6e80>"
      ]
     },
     "execution_count": 52,
     "metadata": {},
     "output_type": "execute_result"
    },
    {
     "data": {
      "image/png": "[encoded data removed]",
      "text/plain": [
       "<Figure size 432x288 with 1 Axes>"
      ]
     },
     "metadata": {
      "needs_background": "light"
     },
     "output_type": "display_data"
    }
   ],
   "source": [
    "plt.imshow(img)"
   ]
  },
  {
   "cell_type": "code",
   "execution_count": 53,
   "metadata": {},
   "outputs": [
    {
     "data": {
      "text/plain": [
       "array([[5, 5, 5, 5, 5, 5, 5, 5, 5, 5],\n",
       "       [5, 5, 5, 5, 5, 5, 5, 5, 5, 5],\n",
       "       [5, 5, 5, 5, 5, 5, 5, 5, 5, 5],\n",
       "       [5, 5, 5, 5, 5, 5, 5, 5, 5, 5],\n",
       "       [5, 5, 5, 5, 5, 5, 5, 5, 5, 5],\n",
       "       [5, 5, 5, 5, 5, 5, 5, 5, 5, 5],\n",
       "       [5, 5, 5, 5, 5, 5, 5, 5, 5, 5],\n",
       "       [5, 5, 5, 5, 5, 5, 5, 5, 5, 5],\n",
       "       [5, 5, 5, 5, 5, 5, 5, 5, 5, 5],\n",
       "       [5, 5, 5, 5, 5, 5, 5, 5, 5, 5]])"
      ]
     },
     "execution_count": 53,
     "metadata": {},
     "output_type": "execute_result"
    }
   ],
   "source": [
    "np.full((10,10),5)"
   ]
  },
  {
   "cell_type": "code",
   "execution_count": 54,
   "metadata": {},
   "outputs": [],
   "source": [
    "x = np.arange(1,101)"
   ]
  },
  {
   "cell_type": "code",
   "execution_count": 55,
   "metadata": {},
   "outputs": [
    {
     "data": {
      "text/plain": [
       "array([  1,   2,   3,   4,   5,   6,   7,   8,   9,  10,  11,  12,  13,\n",
       "        14,  15,  16,  17,  18,  19,  20,  21,  22,  23,  24,  25,  26,\n",
       "        27,  28,  29,  30,  31,  32,  33,  34,  35,  36,  37,  38,  39,\n",
       "        40,  41,  42,  43,  44,  45,  46,  47,  48,  49,  50,  51,  52,\n",
       "        53,  54,  55,  56,  57,  58,  59,  60,  61,  62,  63,  64,  65,\n",
       "        66,  67,  68,  69,  70,  71,  72,  73,  74,  75,  76,  77,  78,\n",
       "        79,  80,  81,  82,  83,  84,  85,  86,  87,  88,  89,  90,  91,\n",
       "        92,  93,  94,  95,  96,  97,  98,  99, 100])"
      ]
     },
     "execution_count": 55,
     "metadata": {},
     "output_type": "execute_result"
    }
   ],
   "source": [
    "x"
   ]
  },
  {
   "cell_type": "code",
   "execution_count": 56,
   "metadata": {},
   "outputs": [],
   "source": [
    "x = x.reshape(10,10)"
   ]
  },
  {
   "cell_type": "code",
   "execution_count": 57,
   "metadata": {},
   "outputs": [
    {
     "data": {
      "text/plain": [
       "array([[  1,   2,   3,   4,   5,   6,   7,   8,   9,  10],\n",
       "       [ 11,  12,  13,  14,  15,  16,  17,  18,  19,  20],\n",
       "       [ 21,  22,  23,  24,  25,  26,  27,  28,  29,  30],\n",
       "       [ 31,  32,  33,  34,  35,  36,  37,  38,  39,  40],\n",
       "       [ 41,  42,  43,  44,  45,  46,  47,  48,  49,  50],\n",
       "       [ 51,  52,  53,  54,  55,  56,  57,  58,  59,  60],\n",
       "       [ 61,  62,  63,  64,  65,  66,  67,  68,  69,  70],\n",
       "       [ 71,  72,  73,  74,  75,  76,  77,  78,  79,  80],\n",
       "       [ 81,  82,  83,  84,  85,  86,  87,  88,  89,  90],\n",
       "       [ 91,  92,  93,  94,  95,  96,  97,  98,  99, 100]])"
      ]
     },
     "execution_count": 57,
     "metadata": {},
     "output_type": "execute_result"
    }
   ],
   "source": [
    "x"
   ]
  },
  {
   "cell_type": "code",
   "execution_count": 60,
   "metadata": {},
   "outputs": [
    {
     "data": {
      "text/plain": [
       "array([  1,   2,   3,   4,   5,   6,   7,   8,   9,  10,  11,  12,  13,\n",
       "        14,  15,  16,  17,  18,  19,  20,  21,  22,  23,  24,  25,  26,\n",
       "        27,  28,  29,  30,  31,  32,  33,  34,  35,  36,  37,  38,  39,\n",
       "        40,  41,  42,  43,  44,  45,  46,  47,  48,  49,  50,  51,  52,\n",
       "        53,  54,  55,  56,  57,  58,  59,  60,  61,  62,  63,  64,  65,\n",
       "        66,  67,  68,  69,  70,  71,  72,  73,  74,  75,  76,  77,  78,\n",
       "        79,  80,  81,  82,  83,  84,  85,  86,  87,  88,  89,  90,  91,\n",
       "        92,  93,  94,  95,  96,  97,  98,  99, 100])"
      ]
     },
     "execution_count": 60,
     "metadata": {},
     "output_type": "execute_result"
    }
   ],
   "source": [
    "x.flatten() # to convert the in one d"
   ]
  },
  {
   "cell_type": "code",
   "execution_count": 62,
   "metadata": {},
   "outputs": [
    {
     "data": {
      "text/plain": [
       "array([  1,   2,   3,   4,   5,   6,   7,   8,   9,  10,  11,  12,  13,\n",
       "        14,  15,  16,  17,  18,  19,  20,  21,  22,  23,  24,  25,  26,\n",
       "        27,  28,  29,  30,  31,  32,  33,  34,  35,  36,  37,  38,  39,\n",
       "        40,  41,  42,  43,  44,  45,  46,  47,  48,  49,  50,  51,  52,\n",
       "        53,  54,  55,  56,  57,  58,  59,  60,  61,  62,  63,  64,  65,\n",
       "        66,  67,  68,  69,  70,  71,  72,  73,  74,  75,  76,  77,  78,\n",
       "        79,  80,  81,  82,  83,  84,  85,  86,  87,  88,  89,  90,  91,\n",
       "        92,  93,  94,  95,  96,  97,  98,  99, 100])"
      ]
     },
     "execution_count": 62,
     "metadata": {},
     "output_type": "execute_result"
    }
   ],
   "source": [
    "x.ravel()  # to convert the array in one d"
   ]
  },
  {
   "cell_type": "code",
   "execution_count": 68,
   "metadata": {},
   "outputs": [],
   "source": [
    "random = np.random.randint(1,100,100)"
   ]
  },
  {
   "cell_type": "code",
   "execution_count": 69,
   "metadata": {},
   "outputs": [],
   "source": [
    "random.sort()"
   ]
  },
  {
   "cell_type": "code",
   "execution_count": 70,
   "metadata": {},
   "outputs": [
    {
     "data": {
      "text/plain": [
       "array([ 1,  1,  3,  5,  5,  6,  7,  7,  8,  9,  9, 10, 10, 10, 11, 12, 12,\n",
       "       12, 13, 13, 14, 14, 14, 16, 20, 20, 22, 23, 25, 26, 27, 28, 31, 32,\n",
       "       33, 34, 34, 35, 36, 36, 38, 39, 39, 39, 39, 40, 40, 40, 41, 42, 43,\n",
       "       44, 44, 45, 47, 48, 48, 48, 49, 49, 52, 54, 54, 55, 55, 56, 56, 56,\n",
       "       59, 61, 61, 62, 62, 63, 67, 68, 71, 71, 71, 71, 71, 72, 72, 74, 75,\n",
       "       77, 79, 79, 82, 82, 89, 89, 91, 91, 93, 94, 94, 95, 99, 99])"
      ]
     },
     "execution_count": 70,
     "metadata": {},
     "output_type": "execute_result"
    }
   ],
   "source": [
    "random"
   ]
  },
  {
   "cell_type": "code",
   "execution_count": 71,
   "metadata": {},
   "outputs": [],
   "source": [
    "np.random.shuffle(random)"
   ]
  },
  {
   "cell_type": "code",
   "execution_count": 72,
   "metadata": {},
   "outputs": [
    {
     "data": {
      "text/plain": [
       "array([14, 47, 34, 55, 72, 56, 71, 94, 56, 43, 33, 42, 40, 49, 48, 71, 75,\n",
       "       20, 95, 93, 36, 54, 16, 89, 35, 79, 44,  8, 34, 10, 39, 45, 28, 14,\n",
       "       71, 61, 55, 13, 26,  6, 20, 91, 12, 62, 72, 91,  5, 12, 62, 68,  3,\n",
       "       10, 14, 99, 39, 31, 74, 12, 99, 38, 48, 52, 40, 71,  1, 61, 59, 49,\n",
       "       94, 82, 22, 56, 40,  9, 48, 54, 25, 82,  9, 32, 11, 41, 36, 67, 23,\n",
       "       10, 13, 39, 27, 71,  5,  7, 39,  1, 79, 44, 89, 77, 63,  7])"
      ]
     },
     "execution_count": 72,
     "metadata": {},
     "output_type": "execute_result"
    }
   ],
   "source": [
    "random"
   ]
  },
  {
   "cell_type": "code",
   "execution_count": 77,
   "metadata": {},
   "outputs": [
    {
     "data": {
      "text/plain": [
       "array([0.00557482, 0.62954539, 0.9994698 , 0.5772092 , 0.56385321,\n",
       "       0.9558875 , 0.15081072, 0.20904861, 0.45716152, 0.69278719,\n",
       "       0.00839033, 0.74426605, 0.82983893, 0.34373063, 0.45807337,\n",
       "       0.91370653, 0.28910294, 0.45651201, 0.39551104, 0.52643783,\n",
       "       0.32134661, 0.95218358, 0.5425015 , 0.29737308, 0.15383844,\n",
       "       0.39020901, 0.19956797, 0.61476914, 0.33589112, 0.7687518 ,\n",
       "       0.40464186, 0.35102526, 0.73101985, 0.3926322 , 0.36322464,\n",
       "       0.96217872, 0.55232148, 0.62077484, 0.25111976, 0.15742181,\n",
       "       0.05322403, 0.67786244, 0.95078304, 0.36089121, 0.84866126,\n",
       "       0.74757329, 0.74258623, 0.06484025, 0.86716773, 0.58572832,\n",
       "       0.75789074, 0.95524711, 0.95247845, 0.72406049, 0.59117757,\n",
       "       0.85239086, 0.88234932, 0.20736028, 0.30291382, 0.48359076,\n",
       "       0.57276497, 0.65571731, 0.32038159, 0.19287172, 0.09944299,\n",
       "       0.30601569, 0.70647356, 0.86852089, 0.50330595, 0.51541397,\n",
       "       0.59592903, 0.21123571, 0.41351432, 0.7295632 , 0.94617099,\n",
       "       0.04950541, 0.5879305 , 0.17592662, 0.60203799, 0.59309301,\n",
       "       0.49711346, 0.37491409, 0.13087273, 0.31308986, 0.23900765,\n",
       "       0.43876809, 0.99372283, 0.43625383, 0.8613733 , 0.62250862,\n",
       "       0.30261395, 0.53486364, 0.53702688, 0.53095181, 0.39565362,\n",
       "       0.92871068, 0.87807969, 0.12330222, 0.80509173, 0.6799655 ])"
      ]
     },
     "execution_count": 77,
     "metadata": {},
     "output_type": "execute_result"
    }
   ],
   "source": [
    "np.random.rand(100)"
   ]
  },
  {
   "cell_type": "code",
   "execution_count": 80,
   "metadata": {},
   "outputs": [],
   "source": [
    "x =  np.random.randn(10,4)"
   ]
  },
  {
   "cell_type": "code",
   "execution_count": 81,
   "metadata": {},
   "outputs": [
    {
     "data": {
      "text/plain": [
       "array([[-1.83070028,  0.08613252,  1.34334681, -0.39074263],\n",
       "       [ 0.49407474,  0.85667948,  0.57079024,  0.06145326],\n",
       "       [ 0.00600021, -0.17296248, -0.29309481, -0.299982  ],\n",
       "       [-0.51159151,  1.4213471 , -0.74649629,  1.27105079],\n",
       "       [ 2.07874228, -0.06147384, -0.25026846,  0.44538636],\n",
       "       [ 1.0367991 ,  0.09902681, -0.95508473, -0.64097715],\n",
       "       [-1.18526758,  0.30878115,  0.72431073,  0.19226453],\n",
       "       [-0.43870561, -0.25156335,  0.77172782, -0.61611897],\n",
       "       [ 0.5772918 ,  0.88463485,  1.09526926, -1.01909792],\n",
       "       [-1.95918282, -0.20199824,  1.03949526, -1.28557834]])"
      ]
     },
     "execution_count": 81,
     "metadata": {},
     "output_type": "execute_result"
    }
   ],
   "source": [
    "x"
   ]
  },
  {
   "cell_type": "code",
   "execution_count": 82,
   "metadata": {},
   "outputs": [
    {
     "data": {
      "text/plain": [
       "array([0.48797494, 0.64480812, 0.19482238, 0.56412043, 0.6453993 ,\n",
       "       0.19552196, 0.61998995, 0.68493265, 0.88802901, 0.12742512,\n",
       "       0.2915328 , 0.46334406, 0.80480517, 0.96593479, 0.55928904,\n",
       "       0.56307561, 0.29379163, 0.62872041, 0.01027018, 0.83246235,\n",
       "       0.84493247, 0.65569707, 0.05083456, 0.43248811, 0.30459258,\n",
       "       0.39874611, 0.3234127 , 0.19794296, 0.67335059, 0.42497384,\n",
       "       0.66067472, 0.74003956, 0.16730852, 0.85526735, 0.25955339,\n",
       "       0.32624519, 0.21526097, 0.93922328, 0.54838681, 0.68121238,\n",
       "       0.4601276 , 0.48797258, 0.93023225, 0.21426774, 0.9512242 ,\n",
       "       0.71377433, 0.7329616 , 0.07819257, 0.96986919, 0.81854075,\n",
       "       0.12470696, 0.38915074, 0.34509177, 0.56282238, 0.29381366,\n",
       "       0.54533625, 0.1215503 , 0.7591699 , 0.25196896, 0.63162845,\n",
       "       0.2126156 , 0.84483186, 0.51498239, 0.98834786, 0.05884633,\n",
       "       0.44802159, 0.0268982 , 0.78907305, 0.92763275, 0.0719277 ,\n",
       "       0.25607648, 0.86746161, 0.05051268, 0.76582151, 0.48407702,\n",
       "       0.40189209, 0.24362336, 0.63288352, 0.7336992 , 0.93706431,\n",
       "       0.13890419, 0.97059434, 0.32528768, 0.20860113, 0.80125284,\n",
       "       0.2342474 , 0.70155957, 0.60388218, 0.66132839, 0.30362798,\n",
       "       0.93500037, 0.33456147, 0.64334258, 0.9538984 , 0.44866208,\n",
       "       0.86855245, 0.25389325, 0.84556271, 0.71144255, 0.02283201])"
      ]
     },
     "execution_count": 82,
     "metadata": {},
     "output_type": "execute_result"
    }
   ],
   "source": [
    "np.random.random(100)"
   ]
  },
  {
   "cell_type": "code",
   "execution_count": 83,
   "metadata": {},
   "outputs": [],
   "source": [
    "norm = np.random.normal(1,100,1000)  # mean,std,number of values"
   ]
  },
  {
   "cell_type": "code",
   "execution_count": 84,
   "metadata": {
    "collapsed": true
   },
   "outputs": [
    {
     "data": {
      "text/plain": [
       "array([-1.61666419e+02,  1.81223172e+02,  6.19630660e+01,  1.27438417e+02,\n",
       "       -7.31941898e+01,  5.65049898e-01, -1.05696348e+02,  6.86976501e+01,\n",
       "        5.07858131e+01, -5.86692189e+01, -3.70311426e+01, -5.21248825e+01,\n",
       "        1.73082444e+02, -1.26251727e+01, -1.93556813e+01,  6.62077557e+01,\n",
       "        7.96958168e+00,  9.88021674e+00,  1.73020431e+02, -2.54048713e+02,\n",
       "        1.63774498e+01, -5.37101345e+01, -4.86951446e+01, -3.91293222e+00,\n",
       "        5.06214679e+01,  6.63800201e+01,  7.88424931e+01, -8.38498424e+01,\n",
       "        1.36145412e+00, -7.94350486e+00, -1.89384776e+02,  4.46909448e+01,\n",
       "       -1.97981956e+02, -9.03525542e+01, -1.30383560e+02,  7.88295440e+01,\n",
       "       -1.37564802e+02, -1.14669646e+02,  3.21176511e+01,  1.85151262e+02,\n",
       "        7.04084007e+01, -1.90630992e+02, -8.03952769e+00,  1.16839119e+02,\n",
       "        1.47390852e+02, -4.94030308e+01, -2.07453911e+01,  2.14399584e+02,\n",
       "        1.70837577e+01, -1.95788418e+02,  2.58171436e+01, -7.28636084e+00,\n",
       "       -8.17652118e+01, -2.70995407e+01,  9.27184627e+01,  8.98693885e+01,\n",
       "        5.76103253e+01,  2.00534365e+02, -1.63237483e+01,  8.89239989e+01,\n",
       "       -6.28726174e+01,  1.05160155e+01, -3.50150865e+01,  1.52408144e+01,\n",
       "       -9.25098687e+01,  6.11643919e+01,  1.50610542e+02, -1.27362775e+02,\n",
       "       -1.83238617e+02,  1.12543867e+02,  5.23435880e+01, -5.10007650e+01,\n",
       "       -8.63804416e+01, -1.19864739e+01,  2.36719383e+01, -6.08255762e+01,\n",
       "       -2.98901735e+02,  1.32523032e+02, -7.39442130e+01,  9.16096779e+01,\n",
       "        1.41557660e+02, -3.93435445e+01,  2.12993241e+02, -1.77423299e+02,\n",
       "       -2.91421123e+01, -1.15283251e+02,  4.06474097e+01,  1.14673330e+02,\n",
       "       -2.74003156e+00, -6.51438093e+01, -4.46199970e+01, -1.17293524e+02,\n",
       "       -2.45730842e+01, -3.29901029e+01,  3.61218618e+01, -4.25043335e+01,\n",
       "        1.51348438e+00, -8.39494640e+01, -1.49012055e+02,  1.32436809e+02,\n",
       "       -5.22959893e-01,  9.96940091e+01,  3.17457488e+01, -8.48132712e+01,\n",
       "       -1.17741098e+02, -1.96441426e+02, -2.30592616e+01, -1.04766388e+02,\n",
       "       -2.03722039e+02, -9.72575116e+01, -1.27459885e+01,  2.41552961e+01,\n",
       "       -3.97180240e+01, -4.67941523e+01,  6.02998734e+01,  2.14555656e+01,\n",
       "       -7.38178848e+01, -1.05405092e+02,  9.58250230e+01, -6.97306968e-02,\n",
       "        6.24936364e+00,  9.63612439e+01, -9.03820470e+01,  1.13758775e+02,\n",
       "        7.49956467e+01,  2.40923472e+01, -1.02445623e+02, -4.21555621e+01,\n",
       "        6.79615733e+01,  3.92106893e+01, -1.18649553e+02,  4.23851777e+01,\n",
       "        1.13514951e+02, -9.17953751e+01,  9.82954331e+01, -5.13566614e+00,\n",
       "       -6.62037988e+01,  7.86476333e+01, -5.41573012e+01,  8.91813238e+00,\n",
       "       -5.82571564e+00, -2.29169496e+02, -1.51900061e+01,  8.43462070e+01,\n",
       "        4.45204385e+01, -6.84290832e+01, -6.35058168e+01, -5.81148017e+01,\n",
       "        7.69552876e+01,  5.13403506e+01, -8.48877179e+01, -1.72143105e+02,\n",
       "       -2.20018916e+01,  1.22427346e+02,  1.27004988e+02, -2.53666146e+01,\n",
       "       -2.02683471e+01, -1.02603909e+02, -9.06159899e+01, -1.82565988e+02,\n",
       "       -1.59994234e+02,  9.33685277e+01, -6.77568801e+01,  2.28049192e+02,\n",
       "       -7.18511497e+01,  4.56960907e+00, -1.45527881e+02,  1.22007326e+02,\n",
       "       -1.45548205e+02,  3.15832911e+01, -1.10010396e+02, -1.84890202e+01,\n",
       "        4.96413502e+01,  9.34746512e+01, -1.41692144e+01, -1.53354903e+01,\n",
       "        2.34439642e+01,  5.07335404e+00, -1.89266948e+01, -1.04318862e+02,\n",
       "        4.75098950e+01, -1.35433127e+02, -2.74478582e+01,  9.17603950e+00,\n",
       "        1.42886329e+02,  5.38974351e+01,  1.13897917e+02, -1.41808799e+02,\n",
       "       -3.04917201e+01,  2.01086742e+02, -3.74757563e+01, -3.00010714e+01,\n",
       "       -1.20622210e+02,  1.30938082e+02,  2.39763111e+01,  8.05018711e-01,\n",
       "       -2.79768278e+01, -1.00970976e+02,  1.14881897e+01,  1.01907875e+00,\n",
       "       -6.08254118e+01, -3.18304570e+01, -8.89493347e+01,  3.73056448e+01,\n",
       "        1.38960900e+02, -8.80872878e+01,  8.31518978e+01,  1.52420761e+01,\n",
       "        7.26912987e+01,  9.60060452e+01,  7.63805008e+01, -4.69784253e+01,\n",
       "        5.33306001e+01, -1.35286287e+02,  1.95979584e+01,  1.14779944e+02,\n",
       "       -2.70996862e+01, -8.26266734e+01,  1.11915949e+02,  4.00869103e+00,\n",
       "       -1.04826472e+02, -4.43775848e+01,  3.22813825e+01,  1.47106694e+02,\n",
       "        5.81716163e+01, -1.53180487e+01, -1.13473098e+01, -5.04529093e+01,\n",
       "       -1.18318136e+00,  7.92719782e+01,  1.16035969e+02,  6.63187973e+01,\n",
       "       -6.63329627e+01,  8.64396111e+01, -6.16555620e+00, -5.47536825e+01,\n",
       "        3.49632749e+02,  1.25950571e+02,  7.06877646e+01,  6.02520299e+01,\n",
       "        1.07639295e+02, -2.01727579e+01,  6.24678748e+01, -9.17179729e+01,\n",
       "        2.24607745e+01,  9.26534854e+01,  1.95220569e+02, -7.58627207e+01,\n",
       "        2.52118759e+01, -2.91481970e+00, -4.56540195e+01, -5.48552178e+00,\n",
       "        9.82912902e+00,  1.22072801e+02,  8.72038031e+01, -1.56478096e+01,\n",
       "       -8.65443853e+01, -7.59600402e+01, -1.34964199e+01,  1.44578664e+02,\n",
       "       -5.46088034e+01, -2.02478692e+02, -1.11114510e+02, -1.01916246e+01,\n",
       "       -5.90881705e+01,  4.37353672e+01,  7.47973162e+01, -2.39074100e+01,\n",
       "       -3.26824804e+01, -6.26124737e+01, -6.39280648e+01,  1.92869101e+02,\n",
       "        1.88474579e+01,  8.46658464e+01,  6.96578911e+01,  4.86109985e+01,\n",
       "        8.57648573e+00, -7.57646873e+01, -6.31673283e+01,  1.27632658e+02,\n",
       "       -6.34797622e+01, -3.25055369e+01, -8.20168750e+01, -8.14355791e+00,\n",
       "        1.73589771e+02, -1.18362503e+02,  1.88477459e+02,  5.37060357e+01,\n",
       "       -1.83771530e+01,  6.86963134e+01,  3.94168423e+01, -5.73740339e+01,\n",
       "       -9.94916933e+01,  1.17348524e+00, -7.29525387e+01, -9.84204279e+01,\n",
       "       -3.29673873e+01,  3.36872865e+01, -1.91071459e+01,  3.70535970e+01,\n",
       "        1.07686800e+02,  6.90599489e+01, -1.32107198e+02,  8.92050906e+01,\n",
       "        1.26679203e+02,  5.88377935e+01, -1.74996268e+01, -1.58538545e+02,\n",
       "       -6.31975717e+00, -8.28780313e+01, -1.11274481e+02,  1.00022180e+01,\n",
       "       -1.53028195e+02,  1.51073742e+02, -1.59781356e+02, -5.66237277e+01,\n",
       "        1.52788034e+02,  9.70285061e+01, -8.39003673e+01, -6.95023354e+01,\n",
       "       -1.30719174e+02,  1.27418087e+02, -4.31132274e+01,  4.76966798e+01,\n",
       "       -8.74733427e+01,  1.32572998e+02,  1.14609293e+02,  1.14316363e+02,\n",
       "        6.63924304e+01, -5.47466481e+01, -3.79162864e+01,  9.29141960e+01,\n",
       "       -1.13993574e+02,  1.78313822e+02, -8.02618978e+01, -5.39244359e+01,\n",
       "       -1.74964821e+01, -3.77015362e+01, -5.36370794e+01,  2.53560631e+02,\n",
       "        4.29502526e+01, -1.50120548e+02, -1.26214940e+02, -9.98594595e+01,\n",
       "       -1.59864383e+02, -6.22248728e+01, -1.40064496e+01,  7.04482484e+01,\n",
       "        4.93170660e+01,  1.79887704e+01, -3.10200721e+02, -6.01705102e+01,\n",
       "       -1.10227384e+02,  1.64446937e+01,  4.82816423e+01,  2.65113485e+02,\n",
       "       -6.83620922e+01, -2.58387469e+01,  2.25940933e+01, -7.74793204e+00,\n",
       "        7.11702118e+01,  2.44169459e+02, -2.83698048e+01, -8.46934957e+01,\n",
       "       -3.30448734e+01, -1.60623844e+02, -2.31632177e+01,  1.01697856e+02,\n",
       "       -1.47269780e+02,  8.78372042e+01,  7.87068165e+01, -8.16879919e+01,\n",
       "       -1.22036823e+02,  6.86513195e+01,  1.83055297e+01, -1.25893717e+02,\n",
       "        2.52047515e+01, -4.59266425e+00, -5.97795381e+01,  2.40699310e+01,\n",
       "        9.37096031e+00,  2.22043244e+01,  7.47634588e+01,  7.83283419e-01,\n",
       "        2.98752781e+01, -8.39833288e+01, -7.15746292e+01, -1.78782648e+01,\n",
       "       -2.15510675e+02, -3.73180417e+01,  2.76423001e+01,  3.03665833e+00,\n",
       "       -9.93339935e+01, -7.47189879e+00,  4.14998343e+01, -1.24229833e+02,\n",
       "        5.83182379e+01,  3.61056736e+00, -2.03682525e+01,  4.18043824e+01,\n",
       "       -1.30626227e+02, -1.83816795e+02,  3.31810775e+01, -1.44227074e+02,\n",
       "        3.59484279e+01,  1.34954147e+02, -1.41973861e+02,  2.00580602e+00,\n",
       "        7.29996816e+01,  1.15962042e+01,  1.60537784e+02,  1.16269694e+02,\n",
       "        7.91954216e+01, -3.14073898e+01, -3.55318887e+01, -1.66079820e+01,\n",
       "       -5.52902641e+01,  2.59484753e+01,  1.20417605e+02, -5.46013506e+01,\n",
       "        5.63522178e+01,  9.61530215e+01, -3.73280755e+00,  2.16318026e+01,\n",
       "        1.54542586e+00, -7.69378982e+00, -2.45296640e+01,  8.36412926e+01,\n",
       "        9.25925980e+01,  4.67300982e+00, -1.16531801e+02,  1.37378748e+01,\n",
       "        8.77723791e+01, -6.60573453e+01, -2.43658768e+01,  9.29995388e+01,\n",
       "       -1.44912607e+02,  1.41399336e+01,  1.88289653e+02,  8.26281936e+01,\n",
       "        8.07803218e+01, -1.81390839e+01,  2.79316443e+01, -1.73285545e+02,\n",
       "        2.06228362e+01,  1.71247835e+02,  3.61364032e+01, -2.00927921e+00,\n",
       "        4.32056194e+01,  3.70139850e+00, -1.33437146e+01,  1.17594528e+02,\n",
       "        1.61208269e+02,  1.27141522e+02, -2.15767600e+02,  8.64567143e+01,\n",
       "        5.01843083e+00, -1.01150798e+02, -3.00614994e+02, -5.21629999e+01,\n",
       "       -1.16912407e+01,  1.03426087e+02, -1.55489973e+02, -9.45550222e+01,\n",
       "       -3.99994391e+01, -1.17205270e+02,  1.36088344e+01, -7.89114567e+01,\n",
       "       -3.97162986e+01, -6.23098980e+01,  2.60784191e+01, -7.29307256e+01,\n",
       "        7.25498395e+01, -2.69844623e+01, -3.94266677e+01, -4.27243739e+01,\n",
       "        2.29856361e+02,  4.81136576e+01,  2.44950561e+01, -1.25839558e+02,\n",
       "        5.32200280e+01, -1.54926468e+01, -4.00472967e+01,  2.03449829e+02,\n",
       "       -5.34249004e+01,  1.23396324e+02,  4.23946982e+01, -3.53874400e+01,\n",
       "        8.91231019e+01, -3.02174736e+00,  2.26092576e+01,  1.30551381e+02,\n",
       "        7.64366232e+01, -5.93972091e+01, -1.17882359e+02, -1.98432169e+01,\n",
       "        1.34357273e+01, -2.18983226e+02,  4.78968235e+01, -1.27624955e+02,\n",
       "        1.21462943e+01, -2.70174582e+01, -1.52571694e+01, -3.99660878e+01,\n",
       "        4.67576273e+01,  1.39679057e+00,  1.36382776e+02,  1.96031106e+01,\n",
       "       -1.42881977e+02, -1.18044800e+02,  9.16339750e+01,  5.49750554e+01,\n",
       "       -1.94783124e+02, -1.77711924e+01,  2.56089171e+02, -8.56188244e+01,\n",
       "       -6.51469957e+01,  5.38362734e+01, -3.13885871e+01,  6.77898470e+01,\n",
       "        7.72591651e+01,  2.94472446e+01, -9.05506455e+01, -1.80147212e+02,\n",
       "        2.76814760e+01,  4.39964065e+01, -9.18470110e+00,  4.07574466e+01,\n",
       "       -1.78083248e+01,  1.08470571e+02, -8.88750243e+01, -1.07160202e+02,\n",
       "        2.94125273e+01, -3.70331805e+01,  1.01498702e+02, -6.62596864e+00,\n",
       "        5.66984715e+01, -4.08206748e+01,  3.20637393e+01,  2.58635853e+02,\n",
       "        7.66909458e+01, -9.75020576e+01, -8.27766364e+01,  2.25007666e+01,\n",
       "       -1.32230806e+02, -5.31415464e+01, -1.11965794e+02, -1.59040329e+01,\n",
       "       -7.05016914e+01, -3.28686135e+01, -1.78623279e+01, -1.51043225e+02,\n",
       "        2.14217913e+02,  1.81355464e+01, -1.40920239e+02, -1.50527634e+02,\n",
       "       -3.91657990e+01, -2.45844481e+01,  5.33228309e+01,  9.74963403e+01,\n",
       "        3.49991617e+01, -2.40167515e+01,  1.04594240e+02,  3.69684693e+01,\n",
       "       -2.26197904e+01,  2.96641671e+01,  1.33030224e+02, -3.79623987e+01,\n",
       "       -1.90105298e+02, -1.58242678e+02,  4.52327253e+01,  4.54761949e+01,\n",
       "       -2.43885371e+02, -1.11818385e+01, -1.23240459e+01,  1.82891301e+02,\n",
       "        1.49817821e+01,  5.15582411e+01, -1.21386256e+02, -6.52555343e+01,\n",
       "       -1.19091156e+02,  3.69732060e+01,  1.06390984e+02,  2.13300768e+02,\n",
       "       -1.40050311e+02,  1.21940381e+01,  8.32720342e+01, -3.14522320e+01,\n",
       "        2.28209280e+01, -3.36420990e+00, -7.94298548e+01, -6.25054481e+01,\n",
       "        1.06404431e+02, -7.77935174e+01,  2.12053967e+02,  1.71790672e+02,\n",
       "       -9.07957063e+01, -4.58018617e+00,  8.19838298e+00,  5.03286138e+00,\n",
       "       -5.44956973e+01,  1.06961253e+01,  1.29426728e+02, -1.62706269e+02,\n",
       "       -5.09061059e+01,  9.44044730e+01, -1.60008723e+02,  8.98889560e+01,\n",
       "       -1.20167485e+02, -4.83337832e+01, -8.44187911e-01, -4.82354505e+01,\n",
       "       -1.63867681e+02, -1.36160945e+01, -1.22157448e+02,  3.76676337e+01,\n",
       "        2.34543747e+01,  9.73345762e+01, -7.88402036e+00,  9.19263403e+01,\n",
       "       -3.12785111e+01, -1.56650579e+02,  8.11602235e+00, -8.27457815e+01,\n",
       "       -3.13031413e+02, -4.61331555e+01, -6.31328441e+01, -2.85110134e+00,\n",
       "       -6.28562065e+00, -7.63219055e+01, -1.77072833e+02, -1.02220862e+02,\n",
       "        4.74212947e+01, -2.91032909e+01,  9.73814361e+01,  1.27731190e+02,\n",
       "        5.68512447e+01,  2.22256390e+02,  1.39771015e+02,  7.67123800e+01,\n",
       "        2.26580876e+01,  1.40327400e+02, -1.07726661e+02,  1.26686733e+02,\n",
       "       -7.40759706e+01,  1.59824408e+00,  5.49008965e+01,  2.00989204e+01,\n",
       "        5.01937006e+01,  7.49756255e+01,  8.42120013e+01,  2.73149939e+01,\n",
       "       -1.81592102e+01, -2.31783333e+01,  1.14065972e+02,  1.01233764e+02,\n",
       "        2.08322083e+00,  5.08344588e+01, -5.94622281e+01,  5.00793402e+01,\n",
       "        1.09027090e+02, -3.80850414e+01,  1.58047316e+02, -2.96890640e+01,\n",
       "        1.15845813e+02,  4.16247006e+01, -2.10481547e+02, -4.41270379e+01,\n",
       "        1.18045254e+01, -5.06735814e+01,  6.45584770e+01,  4.02899122e+01,\n",
       "       -2.99396092e+01,  2.96882911e+01,  5.66209953e+01, -1.83386416e+01,\n",
       "       -2.97125605e+02,  7.14572812e+01,  9.86694503e+01,  7.98668845e+01,\n",
       "        1.31471977e+02, -2.05416468e+01,  6.24208288e+01, -9.14290184e+01,\n",
       "       -6.31421305e+01,  1.03223640e+02,  1.33061852e+02,  9.45121134e+01,\n",
       "       -1.38324396e+02,  4.03047836e+01,  1.07534805e+02, -7.54802325e+01,\n",
       "       -1.60148332e+02, -5.53698694e+01,  8.01853801e+01, -1.04388924e+02,\n",
       "        4.69483848e+00,  6.10698981e+01, -5.65322720e+01, -1.46686645e+02,\n",
       "       -3.91585755e+01, -1.30581973e+02,  9.73760908e+01,  8.67749904e+01,\n",
       "       -1.43565322e+02, -1.56874291e+02, -2.57680176e+02,  1.12687428e+02,\n",
       "       -2.57391372e+02, -4.96961237e+01, -6.93273072e+01, -1.16575181e+02,\n",
       "       -3.52640937e+01, -6.14278492e+00,  3.46789595e+01, -8.76767919e+01,\n",
       "        2.85279765e+01, -1.58209480e+01,  1.05231528e+02,  1.24441738e+01,\n",
       "        1.24748871e+02,  1.07140320e+02,  2.10762800e+01,  4.54917077e+01,\n",
       "        1.58675481e+02,  8.58853320e+01,  1.01380094e+02,  1.50031839e+02,\n",
       "        7.95127296e+01, -1.01573806e+02,  3.65304729e+01, -8.03861289e+01,\n",
       "       -7.73018490e+01, -4.39055129e+01,  2.24206193e+02,  2.81949408e+01,\n",
       "        1.30615308e+01,  2.03487227e+02,  2.51996221e+02,  5.31283653e+01,\n",
       "        1.15748229e+02, -4.11936429e+01, -7.47289955e+00, -4.80056866e+01,\n",
       "        1.31844762e+02, -2.02399775e+02, -1.06148280e+02,  9.12402210e+01,\n",
       "       -1.97626842e+02, -1.81534591e+02,  1.21848883e+02,  1.11321546e+01,\n",
       "        3.39603612e+01, -1.26464882e+01,  5.77387310e+01, -2.02283061e+02,\n",
       "        3.04780236e+01,  7.43647991e+01,  4.27228134e+01, -2.66713106e+00,\n",
       "        1.07610285e+02,  1.10839372e+02, -3.52253791e+01, -1.19722182e+02,\n",
       "       -8.73225529e+01, -2.76192520e+02,  1.04907583e+02,  9.27286429e+01,\n",
       "        2.40563780e+02, -1.71455725e+02,  9.75576686e+00,  1.57600604e+01,\n",
       "       -2.00789804e+01, -9.44094381e+00, -2.90922657e+01, -6.27674794e+01,\n",
       "        6.00314913e+01, -1.26174356e+02,  2.03158938e+02,  1.50840998e+02,\n",
       "        1.05781949e+02,  5.06341279e+01, -5.77499398e+01, -4.60219996e+01,\n",
       "       -4.23268764e+01,  1.41661414e+02, -1.25587425e+02,  6.01765805e+01,\n",
       "       -1.01300700e+02,  2.72556857e+01,  2.54805448e+02,  2.48272111e+01,\n",
       "        7.83758920e+01, -7.69744681e+01, -3.85812472e+01,  2.19546266e+02,\n",
       "       -2.82640042e+02, -5.63918264e+01, -1.34935313e+02, -1.94814424e+02,\n",
       "       -1.89587127e+02,  1.05070607e+02,  1.77706447e+02, -1.07258183e+01,\n",
       "       -6.84676163e+01, -1.50240815e+02,  8.26952046e+01, -4.20343420e+00,\n",
       "        1.13551152e+02,  7.21658757e+01,  1.25658668e+02,  6.36624764e+01,\n",
       "       -9.70663318e+01, -2.09547397e+01, -1.62347361e+02, -3.03891808e+01,\n",
       "       -4.61298953e+01,  2.33558854e+02, -6.23640234e+01, -5.31510172e+00,\n",
       "       -7.14046476e+01,  4.74044853e+01, -2.04136616e+02, -6.16650474e+01,\n",
       "        1.15547965e+02, -1.00391554e+02, -9.96443849e+01, -1.87224384e+02,\n",
       "        2.19003290e+00, -5.93033460e+01, -5.08190440e+01,  7.29262901e+01,\n",
       "        1.69140932e+02,  4.10525431e+01,  8.12381761e+01,  1.62958384e+02,\n",
       "       -6.66573507e+01, -6.73111793e+01, -7.58261921e+01,  3.94069427e+00,\n",
       "       -1.59008286e+02,  1.29550095e+02, -1.47745201e+02, -1.20724194e+00,\n",
       "       -2.61402879e+01, -1.25580142e+02,  2.18837192e+02, -2.51428623e+01,\n",
       "        9.28964347e+01,  3.84553020e+01,  7.06464844e+01, -1.29859154e+02,\n",
       "       -1.73024831e+02,  9.85176212e+01, -1.39708288e+02, -4.94988650e+01,\n",
       "        1.97601743e+02, -1.43278011e+02,  1.02695228e+02,  5.13712524e+01,\n",
       "        1.39029471e+02, -1.13836698e+01,  7.30959071e+01, -5.62964306e+01,\n",
       "        1.19777602e+01, -3.88560426e+01,  7.64530000e+01, -4.30665176e+01,\n",
       "        1.65354640e+02,  4.66981999e+01,  5.63426322e+01, -1.32349757e+02,\n",
       "        1.75415084e+02, -1.41977041e+02, -2.64655538e+00,  7.86441130e+01,\n",
       "        3.25277070e+01,  7.15913243e+01, -7.65302944e+01, -3.23894037e+01,\n",
       "       -3.51486814e+01,  1.00921381e+02, -3.20123575e+01, -2.11726097e+02,\n",
       "       -5.94661615e+01, -1.15700006e+02, -1.20566700e+02,  5.29431434e+01,\n",
       "       -1.68494565e+02,  8.23778468e+01,  8.72751256e+01,  1.81430683e+02,\n",
       "       -1.36942738e+02, -2.67510381e+01,  6.56999249e+01, -8.78168563e+01,\n",
       "       -2.53388660e+02,  2.14991225e+02, -1.50452570e+02,  1.45835641e+01,\n",
       "        1.99516179e+01, -8.38719729e+01, -4.42655082e+01,  2.00538974e+01,\n",
       "        3.51628191e+00, -9.22624729e+01, -1.00719444e+02,  1.94700986e+01,\n",
       "       -1.34006986e+02, -8.55505723e+01,  1.55760544e+02, -4.49671087e+01,\n",
       "        3.44343338e+01,  3.93472230e+01, -2.10028339e+01,  1.70481407e+02,\n",
       "        7.84077581e+01, -2.73562616e+01,  5.63638343e+01,  1.19712779e+02,\n",
       "        2.75928635e+00,  2.66410399e+01,  2.24889599e+01, -1.42292920e+02,\n",
       "       -5.45808811e+01,  2.44578211e+02, -3.83963521e+01, -1.05843381e+01,\n",
       "       -7.14275486e+01,  1.25540692e+02,  2.18603080e+02, -1.76778099e+02,\n",
       "        1.14434486e+02,  2.21612668e+02, -9.02542161e+01, -5.96718620e+01,\n",
       "       -5.28348213e+01, -3.03104459e+01,  1.35007200e+02,  2.77060979e+01,\n",
       "       -5.03575509e+01,  5.92842405e+01, -3.87794875e+00, -5.59533282e+00,\n",
       "        1.78266144e+02, -1.13522848e+02,  4.54717194e+01, -7.06990623e+01,\n",
       "       -5.84132866e+01, -2.56306159e+01, -5.13485383e+01, -2.08468505e+02,\n",
       "        3.48586682e+01, -4.85941113e+01, -1.30645083e+02, -9.21886503e+01,\n",
       "       -5.42838749e+01,  1.47632042e+02,  3.06003420e+01, -4.54862753e+01,\n",
       "       -1.50918581e+02, -1.25689770e+02, -1.37093654e+02, -5.81989281e+01,\n",
       "       -7.75215772e+01, -1.23481530e+02, -1.55067146e+02,  3.29657855e+01,\n",
       "        1.56238385e+02, -1.53854031e+02, -4.51573927e+01, -6.47959635e+01,\n",
       "        1.42124908e+01, -9.73014655e+01, -1.25969098e+02, -1.13619231e+01,\n",
       "       -1.20603591e+02,  2.88892116e+01, -5.46546440e+01, -6.54888137e+01,\n",
       "       -3.74576615e+01, -7.05372570e+01,  9.93514796e+01,  2.27869311e+02,\n",
       "       -1.38222498e+01, -2.10862378e+02, -7.80060602e+01, -9.52399971e+01,\n",
       "        5.38460360e+01,  2.01532252e+02,  5.22908991e+01,  1.77047821e+02,\n",
       "        8.71494773e+00,  1.49041904e+01,  5.50399341e+01, -1.34610813e+01,\n",
       "       -8.84164502e+01,  7.14460714e+01,  2.55694453e+01, -3.19462572e+02])"
      ]
     },
     "execution_count": 84,
     "metadata": {},
     "output_type": "execute_result"
    }
   ],
   "source": [
    "norm"
   ]
  },
  {
   "cell_type": "code",
   "execution_count": 92,
   "metadata": {},
   "outputs": [],
   "source": [
    "mean= np.mean(norm)"
   ]
  },
  {
   "cell_type": "code",
   "execution_count": 95,
   "metadata": {},
   "outputs": [],
   "source": [
    "median= np.median(norm)"
   ]
  },
  {
   "cell_type": "code",
   "execution_count": 99,
   "metadata": {},
   "outputs": [],
   "source": [
    "std = np.std(norm)"
   ]
  },
  {
   "cell_type": "code",
   "execution_count": 100,
   "metadata": {},
   "outputs": [
    {
     "data": {
      "image/png": "[encoded data removed]",
      "text/plain": [
       "<Figure size 720x360 with 1 Axes>"
      ]
     },
     "metadata": {},
     "output_type": "display_data"
    }
   ],
   "source": [
    "plt.figure(figsize=(10,5),facecolor='hotpink')\n",
    "plt.hist(norm,bins=30,color='purple',edgecolor='k')\n",
    "plt.plot([mean,mean],[0,88],color='pink',linewidth=3)\n",
    "plt.plot([median,median],[0,88],color='green',lw=2)\n",
    "plt.plot([std,std],[0,88],color='m',lw=3)\n",
    "plt.title('histogram of normal distribution')\n",
    "plt.show()"
   ]
  },
  {
   "cell_type": "code",
   "execution_count": 86,
   "metadata": {},
   "outputs": [
    {
     "data": {
      "text/plain": [
       "-3.1347237746287355"
      ]
     },
     "execution_count": 86,
     "metadata": {},
     "output_type": "execute_result"
    }
   ],
   "source": [
    "np.mean(norm)"
   ]
  },
  {
   "cell_type": "code",
   "execution_count": 90,
   "metadata": {},
   "outputs": [
    {
     "data": {
      "text/plain": [
       "-5.225383929080655"
      ]
     },
     "execution_count": 90,
     "metadata": {},
     "output_type": "execute_result"
    }
   ],
   "source": [
    "np.median(norm)"
   ]
  },
  {
   "cell_type": "code",
   "execution_count": null,
   "metadata": {},
   "outputs": [],
   "source": []
  },
  {
   "cell_type": "code",
   "execution_count": null,
   "metadata": {},
   "outputs": [],
   "source": []
  }
 ],
 "metadata": {
  "kernelspec": {
   "display_name": "Python 3",
   "language": "python",
   "name": "python3"
  },
  "language_info": {
   "codemirror_mode": {
    "name": "ipython",
    "version": 3
   },
   "file_extension": ".py",
   "mimetype": "text/x-python",
   "name": "python",
   "nbconvert_exporter": "python",
   "pygments_lexer": "ipython3",
   "version": "3.7.3"
  }
 },
 "nbformat": 4,
 "nbformat_minor": 2
}
